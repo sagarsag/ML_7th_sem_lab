{
 "cells": [
  {
   "cell_type": "code",
   "execution_count": 1,
   "metadata": {
    "scrolled": false
   },
   "outputs": [
    {
     "name": "stdout",
     "output_type": "stream",
     "text": [
      "+----------+------------+\n",
      "| preg(0)  | 0.144531   |\n",
      "+----------+------------+\n",
      "| preg(1)  | 0.175781   |\n",
      "+----------+------------+\n",
      "| preg(2)  | 0.134115   |\n",
      "+----------+------------+\n",
      "| preg(3)  | 0.0976562  |\n",
      "+----------+------------+\n",
      "| preg(4)  | 0.0885417  |\n",
      "+----------+------------+\n",
      "| preg(5)  | 0.0742188  |\n",
      "+----------+------------+\n",
      "| preg(6)  | 0.0651042  |\n",
      "+----------+------------+\n",
      "| preg(7)  | 0.0585938  |\n",
      "+----------+------------+\n",
      "| preg(8)  | 0.0494792  |\n",
      "+----------+------------+\n",
      "| preg(9)  | 0.0364583  |\n",
      "+----------+------------+\n",
      "| preg(10) | 0.03125    |\n",
      "+----------+------------+\n",
      "| preg(11) | 0.0143229  |\n",
      "+----------+------------+\n",
      "| preg(12) | 0.0117188  |\n",
      "+----------+------------+\n",
      "| preg(13) | 0.0130208  |\n",
      "+----------+------------+\n",
      "| preg(14) | 0.00260417 |\n",
      "+----------+------------+\n",
      "| preg(15) | 0.00130208 |\n",
      "+----------+------------+\n",
      "| preg(17) | 0.00130208 |\n",
      "+----------+------------+\n",
      "Probability of heart disease given age = 28\n",
      "\n"
     ]
    },
    {
     "name": "stderr",
     "output_type": "stream",
     "text": [
      "/home/student/.local/lib/python3.7/site-packages/pgmpy/factors/discrete/DiscreteFactor.py:586: FutureWarning: Using a non-tuple sequence for multidimensional indexing is deprecated; use `arr[tuple(seq)]` instead of `arr[seq]`. In the future this will be interpreted as an array index, `arr[np.array(seq)]`, which will result either in an error or a different result.\n",
      "  phi.values = phi.values[slice_]\n",
      "/home/student/.local/lib/python3.7/site-packages/pgmpy/factors/discrete/DiscreteFactor.py:598: FutureWarning: Using a non-tuple sequence for multidimensional indexing is deprecated; use `arr[tuple(seq)]` instead of `arr[seq]`. In the future this will be interpreted as an array index, `arr[np.array(seq)]`, which will result either in an error or a different result.\n",
      "  phi1.values = phi1.values[slice_]\n"
     ]
    },
    {
     "name": "stdout",
     "output_type": "stream",
     "text": [
      "+---------+--------------+\n",
      "| class   |   phi(class) |\n",
      "+=========+==============+\n",
      "| class_0 |       0.2598 |\n",
      "+---------+--------------+\n",
      "| class_1 |       0.7402 |\n",
      "+---------+--------------+\n",
      "Probability of heart disease given bp = 60\n",
      "\n",
      "+---------+--------------+\n",
      "| class   |   phi(class) |\n",
      "+=========+==============+\n",
      "| class_0 |       0.4896 |\n",
      "+---------+--------------+\n",
      "| class_1 |       0.5104 |\n",
      "+---------+--------------+\n"
     ]
    }
   ],
   "source": [
    "import numpy as np\n",
    "import pandas as pd\n",
    "from pgmpy.factors.discrete import TabularCPD\n",
    "from pgmpy.models import BayesianModel\n",
    "from pgmpy.estimators import MaximumLikelihoodEstimator\n",
    "from pgmpy.inference import VariableElimination\n",
    "heartDisease = pd.read_csv('p.csv', names=['preg', 'glucose', \n",
    "'bp', 'skinthick', 'insulin', 'bmi', 'diapedigree', 'age', 'class'])\n",
    "heartDisease.head()\n",
    "model = BayesianModel([('preg', 'glucose'), ('bp', 'skinthick'),\n",
    "('insulin', 'bmi'), ('bmi', 'diapedigree'), ('age', 'class'), ('insulin', 'class')])\n",
    "model.fit(heartDisease, estimator=MaximumLikelihoodEstimator)\n",
    "print(model.get_cpds('preg'))\n",
    "heart_infer = VariableElimination(model)\n",
    "print(\"Probability of heart disease given age = 28\\n\")\n",
    "q = heart_infer.query(variables=['class'], evidence={'age': 28})\n",
    "print(q['class'])\n",
    "print(\"Probability of heart disease given bp = 60\\n\")\n",
    "q = heart_infer.query(variables=['class'], evidence={'insulin': 60})\n",
    "print(q['class'])\n",
    "\n"
   ]
  },
  {
   "cell_type": "code",
   "execution_count": null,
   "metadata": {},
   "outputs": [],
   "source": []
  }
 ],
 "metadata": {
  "kernelspec": {
   "display_name": "Python 3",
   "language": "python",
   "name": "python3"
  },
  "language_info": {
   "codemirror_mode": {
    "name": "ipython",
    "version": 3
   },
   "file_extension": ".py",
   "mimetype": "text/x-python",
   "name": "python",
   "nbconvert_exporter": "python",
   "pygments_lexer": "ipython3",
   "version": "3.7.3"
  }
 },
 "nbformat": 4,
 "nbformat_minor": 2
}
