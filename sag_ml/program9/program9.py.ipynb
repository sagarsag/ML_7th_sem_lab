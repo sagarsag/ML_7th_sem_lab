{
 "cells": [
  {
   "cell_type": "code",
   "execution_count": 2,
   "metadata": {},
   "outputs": [
    {
     "name": "stdout",
     "output_type": "stream",
     "text": [
      "accuracy= 0.9555555555555556\n",
      "Confusion matrix is as follows\n",
      "[[15  0  0]\n",
      " [ 0 15  0]\n",
      " [ 0  2 13]]\n",
      "Accuracy Matrics\n",
      "              precision    recall  f1-score   support\n",
      "\n",
      "      setosa       1.00      1.00      1.00        15\n",
      "  versicolor       0.88      1.00      0.94        15\n",
      "   virginica       1.00      0.87      0.93        15\n",
      "\n",
      "    accuracy                           0.96        45\n",
      "   macro avg       0.96      0.96      0.96        45\n",
      "weighted avg       0.96      0.96      0.96        45\n",
      "\n"
     ]
    }
   ],
   "source": [
    "from sklearn import datasets\n",
    "iris=datasets.load_iris()\n",
    "iris_data=iris.data\n",
    "iris_labels=iris.target\n",
    "\n",
    "from sklearn.model_selection import train_test_split\n",
    "x_train,x_test,y_train,y_test=train_test_split(iris_data,iris_labels,test_size=0.30)\n",
    "\n",
    "from sklearn.neighbors import KNeighborsClassifier\n",
    "classifier=KNeighborsClassifier(n_neighbors=5) \n",
    "classifier.fit(x_train,y_train)\n",
    "y_pred=classifier.predict(x_test)\n",
    "\n",
    "from sklearn.metrics import classification_report,confusion_matrix\n",
    "from sklearn import metrics\n",
    "print(\"accuracy=\",metrics.accuracy_score(y_test,y_pred))\n",
    "print('Confusion matrix is as follows')\n",
    "print(confusion_matrix(y_test,y_pred))\n",
    "print('Accuracy Matrics')\n",
    "print(classification_report(y_test,y_pred,target_names=iris.target_names))"
   ]
  },
  {
   "cell_type": "code",
   "execution_count": 19,
   "metadata": {},
   "outputs": [
    {
     "name": "stdout",
     "output_type": "stream",
     "text": [
      "sl no \tPredicted \t\tActual \t\t\tAnswer\n",
      "--------------------------------------------------------------------\n",
      "0 :\t setosa \t\t setosa \t\tYes\n",
      "1 :\t setosa \t\t setosa \t\tYes\n",
      "2 :\t versicolor \t\t versicolor \t\tYes\n",
      "3 :\t setosa \t\t setosa \t\tYes\n",
      "4 :\t setosa \t\t setosa \t\tYes\n",
      "5 :\t setosa \t\t setosa \t\tYes\n",
      "6 :\t setosa \t\t setosa \t\tYes\n",
      "7 :\t versicolor \t\t versicolor \t\tYes\n",
      "8 :\t virginica \t\t virginica \t\tYes\n",
      "9 :\t setosa \t\t setosa \t\tYes\n",
      "10 :\t virginica \t\t virginica \t\tYes\n",
      "11 :\t virginica \t\t virginica \t\tYes\n",
      "12 :\t versicolor \t\t versicolor \t\tYes\n",
      "13 :\t versicolor \t\t versicolor \t\tYes\n",
      "14 :\t virginica \t\t virginica \t\tYes\n",
      "15 :\t virginica \t\t virginica \t\tYes\n",
      "16 :\t setosa \t\t setosa \t\tYes\n",
      "17 :\t versicolor \t\t versicolor \t\tYes\n",
      "18 :\t versicolor \t\t versicolor \t\tYes\n",
      "19 :\t virginica \t\t virginica \t\tYes\n",
      "20 :\t versicolor \t\t versicolor \t\tYes\n",
      "21 :\t virginica \t\t virginica \t\tYes\n",
      "22 :\t setosa \t\t setosa \t\tYes\n",
      "23 :\t versicolor \t\t versicolor \t\tYes\n",
      "24 :\t setosa \t\t setosa \t\tYes\n",
      "25 :\t virginica \t\t virginica \t\tYes\n",
      "26 :\t virginica \t\t virginica \t\tYes\n",
      "27 :\t virginica \t\t virginica \t\tYes\n",
      "28 :\t virginica \t\t virginica \t\tYes\n",
      "29 :\t versicolor \t\t versicolor \t\tYes\n",
      "30 :\t setosa \t\t setosa \t\tYes\n",
      "31 :\t setosa \t\t setosa \t\tYes\n",
      "32 :\t virginica \t\t virginica \t\tYes\n",
      "33 :\t setosa \t\t setosa \t\tYes\n",
      "34 :\t setosa \t\t setosa \t\tYes\n",
      "35 :\t versicolor \t\t versicolor \t\tYes\n",
      "36 :\t setosa \t\t setosa \t\tYes\n",
      "37 :\t versicolor \t\t versicolor \t\tYes\n",
      "38 :\t virginica \t\t virginica \t\tYes\n",
      "39 :\t setosa \t\t setosa \t\tYes\n",
      "40 :\t setosa \t\t setosa \t\tYes\n",
      "41 :\t versicolor \t\t versicolor \t\tYes\n",
      "42 :\t versicolor \t\t versicolor \t\tYes\n",
      "43 :\t virginica \t\t virginica \t\tYes\n",
      "44 :\t versicolor \t\t versicolor \t\tYes\n"
     ]
    }
   ],
   "source": [
    "pre_target=[iris.target_names[i] for i in y_pred]\n",
    "actual_target=[iris.target_names[i] for i in y_test]\n",
    "print(\"sl no\",\"\\tPredicted\",\"\\t\\tActual\",\"\\t\\t\\tAnswer\")\n",
    "print(\"--------------------------------------------------------------------\")\n",
    "for i in range(0,len(pre_target)):\n",
    "    print(i,\":\\t\",pre_target[i],\"\\t\\t\",actual_target[i],\"\\t\\t\",end='')\n",
    "    if(pre_target[i]==actual_target[i]):\n",
    "        print(\"Yes\")\n",
    "    else:\n",
    "        print(\"No\")"
   ]
  },
  {
   "cell_type": "code",
   "execution_count": null,
   "metadata": {},
   "outputs": [],
   "source": []
  },
  {
   "cell_type": "code",
   "execution_count": null,
   "metadata": {},
   "outputs": [],
   "source": []
  }
 ],
 "metadata": {
  "kernelspec": {
   "display_name": "Python 3",
   "language": "python",
   "name": "python3"
  },
  "language_info": {
   "codemirror_mode": {
    "name": "ipython",
    "version": 3
   },
   "file_extension": ".py",
   "mimetype": "text/x-python",
   "name": "python",
   "nbconvert_exporter": "python",
   "pygments_lexer": "ipython3",
   "version": "3.7.2"
  }
 },
 "nbformat": 4,
 "nbformat_minor": 2
}
