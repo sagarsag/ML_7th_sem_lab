{
 "cells": [
  {
   "cell_type": "code",
   "execution_count": 1,
   "metadata": {},
   "outputs": [
    {
     "name": "stdout",
     "output_type": "stream",
     "text": [
      "\n",
      " The Given Training Data Set \n",
      "\n",
      "['Sunny', 'Warm', 'Normal', 'Strong', 'Warm', 'Same', 'Yes']\n",
      "['Sunny', 'Warm', 'High', 'Strong', 'Warm', 'Same', 'Yes']\n",
      "['Rainy', 'Cool', 'High', 'Strong', 'Warm', 'Change', 'No']\n",
      "['Sunny', 'Warm', 'High', 'Strong', 'Cool', 'Change', 'Yes']\n",
      "\n",
      " The initial value of hypothesis: \n",
      "\n",
      " The most specific hypothesis S0 : [0,0,0,0,0,0]\n",
      "\n",
      " \n",
      " The most general hypothesis G0 : [?,?,?,?,?,?]\n",
      "\n",
      "\n",
      " Candidate Elimination algorithm  Hypotheses Version Space Computation\n",
      "\n",
      " For Training Example No :1 the hypothesis is S1   ['Sunny', 'Warm', 'Normal', 'Strong', 'Warm', 'Same']\n",
      " For Training Example No :1 the hypothesis is G1  ['?', '?', '?', '?', '?', '?']\n",
      " For Training Example No :2 the hypothesis is S2   ['Sunny', 'Warm', '?', 'Strong', 'Warm', 'Same']\n",
      " For Training Example No :2 the hypothesis is G2  ['?', '?', '?', '?', '?', '?']\n",
      " For Training Example No :3 the hypothesis is S3  ['Sunny', 'Warm', '?', 'Strong', 'Warm', 'Same']\n",
      " For Training Example No :3 the hypothesis is G3 [['Sunny', '?', '?', '?', '?', '?'], ['?', 'Warm', '?', '?', '?', '?'], ['?', '?', '?', '?', '?', 'Same']]\n",
      " For Training Example No :4 the hypothesis is S4   ['Sunny', 'Warm', '?', 'Strong', '?', '?']\n",
      " For Training Example No :4 the hypothesis is G4 [['Sunny', '?', '?', '?', '?', '?'], ['?', 'Warm', '?', '?', '?', '?']]\n"
     ]
    }
   ],
   "source": [
    "import csv\n",
    "a = []\n",
    "print(\"\\n The Given Training Data Set \\n\")\n",
    "\n",
    "with open('prog1_2.csv', 'r') as csvFile:\n",
    "    reader = csv.reader(csvFile)\n",
    "    for row in reader:\n",
    "        a.append (row)\n",
    "        print(row)\n",
    "num_attributes = len(a[0])-1 # we don't want last col which is target concet ( yes/no)\n",
    "\n",
    "print(\"\\n The initial value of hypothesis: \")\n",
    "S = ['0'] * num_attributes\n",
    "G = ['?'] * num_attributes\n",
    "print (\"\\n The most specific hypothesis S0 : [0,0,0,0,0,0]\\n\")\n",
    "print (\" \\n The most general hypothesis G0 : [?,?,?,?,?,?]\\n\")\n",
    "\n",
    "for j in range(0,num_attributes):\n",
    "       S[j] = a[0][j];\n",
    "\n",
    "# Comparing with Remaining Training Examples of Given Data Set\n",
    "\n",
    "print(\"\\n Candidate Elimination algorithm  Hypotheses Version Space Computation\\n\")\n",
    "temp=[]\n",
    "\n",
    "for i in range(0,len(a)):\n",
    "    if a[i][num_attributes]=='Yes':\n",
    "        for j in range(0,num_attributes):\n",
    "            if a[i][j]!=S[j]:\n",
    "                S[j]='?'\n",
    "\n",
    "        for j in range(0,num_attributes):\n",
    "            for k  in range(0,len(temp)):\n",
    "                if temp[k][j] != '?' and temp[k][j] != S[j]:\n",
    "                    del temp[k] #remove it if it's not matching with the specific hypothesis\n",
    "\n",
    "        print(\" For Training Example No :{0} the hypothesis is S{0}  \".format(i+1),S)\n",
    "\n",
    "        if (len(temp)==0):\n",
    "            print(\" For Training Example No :{0} the hypothesis is G{0} \".format(i+1),G)\n",
    "        else:\n",
    "            print(\" For Training Example No :{0} the hypothesis is G{0}\".format(i+1),temp)\n",
    "\n",
    "    if a[i][num_attributes]=='No': \n",
    "        for j in range(0,num_attributes):\n",
    "             if S[j] != a[i][j] and S[j]!= '?':  #if not  matching with the specific Hypothesis take it seperately and store it \n",
    "                 G[j]=S[j]\n",
    "                 temp.append(G) # this is the version space to store all Hypotheses\n",
    "                 G = ['?'] * num_attributes\n",
    "\n",
    "        print(\" For Training Example No :{0} the hypothesis is S{0} \".format(i+1),S)\n",
    "        print(\" For Training Example No :{0} the hypothesis is G{0}\".format(i+1),temp)"
   ]
  },
  {
   "cell_type": "code",
   "execution_count": null,
   "metadata": {},
   "outputs": [],
   "source": []
  }
 ],
 "metadata": {
  "kernelspec": {
   "display_name": "Python 3",
   "language": "python",
   "name": "python3"
  },
  "language_info": {
   "codemirror_mode": {
    "name": "ipython",
    "version": 3
   },
   "file_extension": ".py",
   "mimetype": "text/x-python",
   "name": "python",
   "nbconvert_exporter": "python",
   "pygments_lexer": "ipython3",
   "version": "3.7.2"
  }
 },
 "nbformat": 4,
 "nbformat_minor": 2
}
