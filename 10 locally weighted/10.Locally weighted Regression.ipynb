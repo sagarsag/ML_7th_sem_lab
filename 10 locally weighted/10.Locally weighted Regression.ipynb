{
 "cells": [
  {
   "cell_type": "code",
   "execution_count": 21,
   "metadata": {},
   "outputs": [],
   "source": [
    "import pandas as pd\n",
    "import numpy as np\n",
    "from sklearn.model_selection import train_test_split\n",
    "import matplotlib.pyplot as plt\n",
    "tou=0.8\n",
    "X_train=np.array(list(range(3,33))+[3.2,4.2])\n",
    "#X_train"
   ]
  },
  {
   "cell_type": "code",
   "execution_count": 22,
   "metadata": {},
   "outputs": [],
   "source": [
    "X_train=X_train[:,np.newaxis]\n",
    "#X_train"
   ]
  },
  {
   "cell_type": "code",
   "execution_count": 23,
   "metadata": {},
   "outputs": [],
   "source": [
    "y_train=np.array([1,2,1,2,1,1,3,4,5,4,5,6,5,6,7,8,9,10,11,11,12,11,11,12,13,16,17,19,18,34,21,22])\n",
    "#y_train=np.array([1,2,3,4,5,6,6,7,8,8,9,9,4,3,5,5,6,7,7,8,7,8,9,8,9,10,12,12,13,14,13,14])\n",
    "\n",
    "X_test=np.array([i/10. for i in range(400)])\n",
    "X_test=X_test[:,np.newaxis]\n",
    "y_test=[]"
   ]
  },
  {
   "cell_type": "code",
   "execution_count": 25,
   "metadata": {},
   "outputs": [
    {
     "data": {
      "image/png": "[encoded data removed]",
      "text/plain": [
       "<Figure size 432x288 with 1 Axes>"
      ]
     },
     "metadata": {
      "needs_background": "light"
     },
     "output_type": "display_data"
    }
   ],
   "source": [
    "count=0\n",
    "for r in range(len(X_test)):\n",
    "    try:\n",
    "        wt=np.exp(-np.sum((X_train-X_test[r])**2,axis=1)/(2*tou)**2)\n",
    "        w=np.diag(wt)\n",
    "        fact1=np.linalg.inv(X_train.T.dot(w).dot(X_train))\n",
    "        parameter=fact1.dot(X_train.T).dot(w).dot(y_train)\n",
    "        prediction=X_test[r].dot(parameter)\n",
    "        y_test.append(prediction)\n",
    "        count=count+1\n",
    "    except:\n",
    "        pass\n",
    "y_test=np.array(y_test)\n",
    "plt.plot(X_train.squeeze(),y_train,'o')\n",
    "plt.plot(X_test.squeeze(),y_test,'*')\n",
    "plt.show()\n",
    "#y_test"
   ]
  },
  {
   "cell_type": "code",
   "execution_count": null,
   "metadata": {},
   "outputs": [],
   "source": []
  },
  {
   "cell_type": "code",
   "execution_count": null,
   "metadata": {},
   "outputs": [],
   "source": []
  }
 ],
 "metadata": {
  "kernelspec": {
   "display_name": "Python 3",
   "language": "python",
   "name": "python3"
  },
  "language_info": {
   "codemirror_mode": {
    "name": "ipython",
    "version": 3
   },
   "file_extension": ".py",
   "mimetype": "text/x-python",
   "name": "python",
   "nbconvert_exporter": "python",
   "pygments_lexer": "ipython3",
   "version": "3.7.2"
  }
 },
 "nbformat": 4,
 "nbformat_minor": 2
}
