{
 "cells": [
  {
   "cell_type": "code",
   "execution_count": 2,
   "metadata": {},
   "outputs": [
    {
     "name": "stdout",
     "output_type": "stream",
     "text": [
      "\n",
      "The given Training Data Set\n",
      "\n",
      "['Sunny', 'Warm', 'Normal', 'Strong', 'Warm', 'Same', 'Yes']\n",
      "['Sunny', 'Warm', 'High', 'Strong', 'Warm', 'Same', 'Yes']\n",
      "['Rainy', 'Cool', 'High', 'Strong', 'Warm', 'Change', 'No']\n",
      "['Sunny', 'Warm', 'High', 'Strong', 'Cool', 'Change', 'Yes']\n",
      "\n",
      "The most specific hypothesis:[0,0,0,0,0,0]\n",
      "\n",
      "\n",
      "The initial value of hypothesis:\n",
      "['0', '0', '0', '0', '0', '0']\n",
      "\n",
      "Find-S: Finding a maximally Specific Hypothesis\n",
      "\n",
      "For training example No:3 ['Sunny', 'Warm', '?', 'Strong', '?', '?']\n",
      "\n",
      "The final hypothesis is:\n",
      "['Sunny', 'Warm', '?', 'Strong', '?', '?']\n"
     ]
    }
   ],
   "source": [
    "import csv\n",
    "\n",
    "#print(\"\\nThe most general hypothesis:[?,?,?,?,?,?]\\n\")\n",
    "#print(\"\\nThe most specific hypothesis:[0,0,0,0,0,0]\\n\")\n",
    "\n",
    "a=[]\n",
    "\n",
    "print(\"\\nThe given Training Data Set\\n\")\n",
    "with open('prog1_2.csv','r') as csvFile:\n",
    "\treader=csv.reader(csvFile)\n",
    "\tfor row in reader:\n",
    "\t\ta.append(row)\n",
    "\t\tprint(row)\n",
    "num_attributes=len(a[0])-1\n",
    "print(\"\\nThe most specific hypothesis:[0,0,0,0,0,0]\\n\")\n",
    "print(\"\\nThe initial value of hypothesis:\")\n",
    "hypothesis=['0']*num_attributes\n",
    "print(hypothesis)\n",
    "\n",
    "for j in range(0,num_attributes):\n",
    "\thypothesis[j]=a[0][j]#fill the hypothesis with the a's first row\n",
    "\n",
    "print(\"\\nFind-S: Finding a maximally Specific Hypothesis\\n\")\n",
    "\n",
    "for i in range(0,len(a)):\n",
    "\tif a[i][num_attributes]=='Yes':\n",
    "\t\tfor j in range(0,num_attributes):\n",
    "\t\t\tif a[i][j] != hypothesis[j]:\n",
    "\t\t\t\thypothesis[j]='?'\n",
    "\n",
    "print(\"For training example No:{}\".format(i),hypothesis)\n",
    "\n",
    "print(\"\\nThe final hypothesis is:\")\n",
    "print(hypothesis)"
   ]
  },
  {
   "cell_type": "code",
   "execution_count": null,
   "metadata": {},
   "outputs": [],
   "source": []
  }
 ],
 "metadata": {
  "kernelspec": {
   "display_name": "Python 3",
   "language": "python",
   "name": "python3"
  },
  "language_info": {
   "codemirror_mode": {
    "name": "ipython",
    "version": 3
   },
   "file_extension": ".py",
   "mimetype": "text/x-python",
   "name": "python",
   "nbconvert_exporter": "python",
   "pygments_lexer": "ipython3",
   "version": "3.7.2"
  }
 },
 "nbformat": 4,
 "nbformat_minor": 2
}
